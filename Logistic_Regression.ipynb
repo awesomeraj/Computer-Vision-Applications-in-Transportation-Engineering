{
  "cells": [
    {
      "cell_type": "markdown",
      "source": [
        "**Importing Libraries**"
      ],
      "metadata": {
        "id": "9j3IphHYLwHe"
      }
    },
    {
      "cell_type": "code",
      "execution_count": 132,
      "metadata": {
        "id": "bpaJ0zipdF9E"
      },
      "outputs": [],
      "source": [
        "import numpy as np\n",
        "import pandas as pd\n",
        "import matplotlib.pyplot as plt"
      ]
    },
    {
      "cell_type": "markdown",
      "source": [
        "**Extracting and arranging Data**"
      ],
      "metadata": {
        "id": "5Os3pl8fMLES"
      }
    },
    {
      "cell_type": "code",
      "execution_count": 135,
      "metadata": {
        "id": "33E_MAXidhKi"
      },
      "outputs": [],
      "source": [
        "data=pd.read_csv('crack_detection.csv')"
      ]
    },
    {
      "cell_type": "code",
      "execution_count": 136,
      "metadata": {
        "id": "kosEDXoid3qS"
      },
      "outputs": [],
      "source": [
        "data.drop(['Unnamed: 0'],axis=1,inplace=True)"
      ]
    },
    {
      "cell_type": "code",
      "execution_count": 137,
      "metadata": {
        "colab": {
          "base_uri": "https://localhost:8080/",
          "height": 488
        },
        "id": "POKaefOid7Sr",
        "outputId": "405db65e-95ff-4a69-ac33-adbe55bc6813"
      },
      "outputs": [
        {
          "output_type": "execute_result",
          "data": {
            "text/plain": [
              "       mean_r      std_r     kur_r    skew_r    mean_g      std_g     kur_g  \\\n",
              "0    107.5734  29.267480  0.744029  0.408828  110.2533  26.953218  1.254689   \n",
              "1    178.6713  14.917756  3.192406  0.238175  184.4947  14.882156  3.035196   \n",
              "2    176.6517  34.618255 -0.146336 -0.421552  161.3083  33.688699  0.057178   \n",
              "3    113.5760  20.084502  0.719752  0.737728  114.0056  19.536222  0.655846   \n",
              "4    125.3565  29.251595  0.430344  0.833496  129.5277  28.661968  0.475502   \n",
              "..        ...        ...       ...       ...       ...        ...       ...   \n",
              "695  147.4849  39.849040 -0.413560 -0.713162  143.8830  36.109081 -0.333042   \n",
              "696  131.6387  22.462007  0.060316 -0.598803  129.3470  20.965238  0.249974   \n",
              "697  124.9098  24.410827 -0.014904  0.298252  130.4604  23.675959 -0.086843   \n",
              "698  100.5366  41.107908 -0.385692  0.309762   98.8532  40.835684 -0.356037   \n",
              "699  138.0759   6.627016  2.339072  0.414758  137.9345   6.328697  2.939153   \n",
              "\n",
              "       skew_g    mean_b      std_b  ...  contrast_r  contrast_g  contrast_b  \\\n",
              "0   -0.135613  113.5715  25.422051  ...    9.181953       177.0       173.0   \n",
              "1    0.141160  190.8538  14.806283  ...    9.207314       142.0       136.0   \n",
              "2   -0.521476  147.2760  30.809486  ...    9.186737       199.0       200.0   \n",
              "3    0.729521  113.6179  18.108592  ...    9.197973       146.0       142.0   \n",
              "4    0.804161  131.9745  27.475848  ...    9.189257       173.0       176.0   \n",
              "..        ...       ...        ...  ...         ...         ...         ...   \n",
              "695 -0.721668  138.3563  32.171850  ...    9.180812       196.0       180.0   \n",
              "696 -0.611380  125.9734  18.213953  ...    9.199403       169.0       163.0   \n",
              "697  0.180634  135.0006  23.404324  ...    9.195094       152.0       145.0   \n",
              "698  0.269909   98.9559  39.810056  ...    9.125664       233.0       231.0   \n",
              "699  0.477630  137.8309   5.944956  ...    9.209413        93.0        91.0   \n",
              "\n",
              "     corr_rg   corr_rb   corr_gb  moment_r     moment_g     moment_b  label  \n",
              "0      162.0  0.951368  0.913876  0.803333   856.585412   726.475939      0  \n",
              "1      129.0  0.988325  0.989474  0.976787   222.539456   221.478572      0  \n",
              "2      194.0  0.968581  0.967398  0.890845  1198.423587  1134.928451      1  \n",
              "3      138.0  0.987383  0.983663  0.961305   403.387224   381.663969      0  \n",
              "4      177.0  0.980727  0.986702  0.950291   855.655808   821.508433      1  \n",
              "..       ...       ...       ...       ...          ...          ...    ...  \n",
              "695    168.0  0.991360  0.988178  0.968726  1587.945972  1303.865711      1  \n",
              "696    157.0  0.992205  0.977108  0.954988   504.541762   439.541191      1  \n",
              "697    143.0  0.981116  0.986397  0.953482   595.888464   560.551032      0  \n",
              "698    227.0  0.996501  0.997454  0.994056  1689.860060  1667.553050      1  \n",
              "699     92.0  0.962479  0.948542  0.926412    43.917339    40.052410      0  \n",
              "\n",
              "[700 rows x 24 columns]"
            ],
            "text/html": [
              "\n",
              "  <div id=\"df-91f3b52d-6ea8-4ac4-badd-0d1ab052d07e\">\n",
              "    <div class=\"colab-df-container\">\n",
              "      <div>\n",
              "<style scoped>\n",
              "    .dataframe tbody tr th:only-of-type {\n",
              "        vertical-align: middle;\n",
              "    }\n",
              "\n",
              "    .dataframe tbody tr th {\n",
              "        vertical-align: top;\n",
              "    }\n",
              "\n",
              "    .dataframe thead th {\n",
              "        text-align: right;\n",
              "    }\n",
              "</style>\n",
              "<table border=\"1\" class=\"dataframe\">\n",
              "  <thead>\n",
              "    <tr style=\"text-align: right;\">\n",
              "      <th></th>\n",
              "      <th>mean_r</th>\n",
              "      <th>std_r</th>\n",
              "      <th>kur_r</th>\n",
              "      <th>skew_r</th>\n",
              "      <th>mean_g</th>\n",
              "      <th>std_g</th>\n",
              "      <th>kur_g</th>\n",
              "      <th>skew_g</th>\n",
              "      <th>mean_b</th>\n",
              "      <th>std_b</th>\n",
              "      <th>...</th>\n",
              "      <th>contrast_r</th>\n",
              "      <th>contrast_g</th>\n",
              "      <th>contrast_b</th>\n",
              "      <th>corr_rg</th>\n",
              "      <th>corr_rb</th>\n",
              "      <th>corr_gb</th>\n",
              "      <th>moment_r</th>\n",
              "      <th>moment_g</th>\n",
              "      <th>moment_b</th>\n",
              "      <th>label</th>\n",
              "    </tr>\n",
              "  </thead>\n",
              "  <tbody>\n",
              "    <tr>\n",
              "      <th>0</th>\n",
              "      <td>107.5734</td>\n",
              "      <td>29.267480</td>\n",
              "      <td>0.744029</td>\n",
              "      <td>0.408828</td>\n",
              "      <td>110.2533</td>\n",
              "      <td>26.953218</td>\n",
              "      <td>1.254689</td>\n",
              "      <td>-0.135613</td>\n",
              "      <td>113.5715</td>\n",
              "      <td>25.422051</td>\n",
              "      <td>...</td>\n",
              "      <td>9.181953</td>\n",
              "      <td>177.0</td>\n",
              "      <td>173.0</td>\n",
              "      <td>162.0</td>\n",
              "      <td>0.951368</td>\n",
              "      <td>0.913876</td>\n",
              "      <td>0.803333</td>\n",
              "      <td>856.585412</td>\n",
              "      <td>726.475939</td>\n",
              "      <td>0</td>\n",
              "    </tr>\n",
              "    <tr>\n",
              "      <th>1</th>\n",
              "      <td>178.6713</td>\n",
              "      <td>14.917756</td>\n",
              "      <td>3.192406</td>\n",
              "      <td>0.238175</td>\n",
              "      <td>184.4947</td>\n",
              "      <td>14.882156</td>\n",
              "      <td>3.035196</td>\n",
              "      <td>0.141160</td>\n",
              "      <td>190.8538</td>\n",
              "      <td>14.806283</td>\n",
              "      <td>...</td>\n",
              "      <td>9.207314</td>\n",
              "      <td>142.0</td>\n",
              "      <td>136.0</td>\n",
              "      <td>129.0</td>\n",
              "      <td>0.988325</td>\n",
              "      <td>0.989474</td>\n",
              "      <td>0.976787</td>\n",
              "      <td>222.539456</td>\n",
              "      <td>221.478572</td>\n",
              "      <td>0</td>\n",
              "    </tr>\n",
              "    <tr>\n",
              "      <th>2</th>\n",
              "      <td>176.6517</td>\n",
              "      <td>34.618255</td>\n",
              "      <td>-0.146336</td>\n",
              "      <td>-0.421552</td>\n",
              "      <td>161.3083</td>\n",
              "      <td>33.688699</td>\n",
              "      <td>0.057178</td>\n",
              "      <td>-0.521476</td>\n",
              "      <td>147.2760</td>\n",
              "      <td>30.809486</td>\n",
              "      <td>...</td>\n",
              "      <td>9.186737</td>\n",
              "      <td>199.0</td>\n",
              "      <td>200.0</td>\n",
              "      <td>194.0</td>\n",
              "      <td>0.968581</td>\n",
              "      <td>0.967398</td>\n",
              "      <td>0.890845</td>\n",
              "      <td>1198.423587</td>\n",
              "      <td>1134.928451</td>\n",
              "      <td>1</td>\n",
              "    </tr>\n",
              "    <tr>\n",
              "      <th>3</th>\n",
              "      <td>113.5760</td>\n",
              "      <td>20.084502</td>\n",
              "      <td>0.719752</td>\n",
              "      <td>0.737728</td>\n",
              "      <td>114.0056</td>\n",
              "      <td>19.536222</td>\n",
              "      <td>0.655846</td>\n",
              "      <td>0.729521</td>\n",
              "      <td>113.6179</td>\n",
              "      <td>18.108592</td>\n",
              "      <td>...</td>\n",
              "      <td>9.197973</td>\n",
              "      <td>146.0</td>\n",
              "      <td>142.0</td>\n",
              "      <td>138.0</td>\n",
              "      <td>0.987383</td>\n",
              "      <td>0.983663</td>\n",
              "      <td>0.961305</td>\n",
              "      <td>403.387224</td>\n",
              "      <td>381.663969</td>\n",
              "      <td>0</td>\n",
              "    </tr>\n",
              "    <tr>\n",
              "      <th>4</th>\n",
              "      <td>125.3565</td>\n",
              "      <td>29.251595</td>\n",
              "      <td>0.430344</td>\n",
              "      <td>0.833496</td>\n",
              "      <td>129.5277</td>\n",
              "      <td>28.661968</td>\n",
              "      <td>0.475502</td>\n",
              "      <td>0.804161</td>\n",
              "      <td>131.9745</td>\n",
              "      <td>27.475848</td>\n",
              "      <td>...</td>\n",
              "      <td>9.189257</td>\n",
              "      <td>173.0</td>\n",
              "      <td>176.0</td>\n",
              "      <td>177.0</td>\n",
              "      <td>0.980727</td>\n",
              "      <td>0.986702</td>\n",
              "      <td>0.950291</td>\n",
              "      <td>855.655808</td>\n",
              "      <td>821.508433</td>\n",
              "      <td>1</td>\n",
              "    </tr>\n",
              "    <tr>\n",
              "      <th>...</th>\n",
              "      <td>...</td>\n",
              "      <td>...</td>\n",
              "      <td>...</td>\n",
              "      <td>...</td>\n",
              "      <td>...</td>\n",
              "      <td>...</td>\n",
              "      <td>...</td>\n",
              "      <td>...</td>\n",
              "      <td>...</td>\n",
              "      <td>...</td>\n",
              "      <td>...</td>\n",
              "      <td>...</td>\n",
              "      <td>...</td>\n",
              "      <td>...</td>\n",
              "      <td>...</td>\n",
              "      <td>...</td>\n",
              "      <td>...</td>\n",
              "      <td>...</td>\n",
              "      <td>...</td>\n",
              "      <td>...</td>\n",
              "      <td>...</td>\n",
              "    </tr>\n",
              "    <tr>\n",
              "      <th>695</th>\n",
              "      <td>147.4849</td>\n",
              "      <td>39.849040</td>\n",
              "      <td>-0.413560</td>\n",
              "      <td>-0.713162</td>\n",
              "      <td>143.8830</td>\n",
              "      <td>36.109081</td>\n",
              "      <td>-0.333042</td>\n",
              "      <td>-0.721668</td>\n",
              "      <td>138.3563</td>\n",
              "      <td>32.171850</td>\n",
              "      <td>...</td>\n",
              "      <td>9.180812</td>\n",
              "      <td>196.0</td>\n",
              "      <td>180.0</td>\n",
              "      <td>168.0</td>\n",
              "      <td>0.991360</td>\n",
              "      <td>0.988178</td>\n",
              "      <td>0.968726</td>\n",
              "      <td>1587.945972</td>\n",
              "      <td>1303.865711</td>\n",
              "      <td>1</td>\n",
              "    </tr>\n",
              "    <tr>\n",
              "      <th>696</th>\n",
              "      <td>131.6387</td>\n",
              "      <td>22.462007</td>\n",
              "      <td>0.060316</td>\n",
              "      <td>-0.598803</td>\n",
              "      <td>129.3470</td>\n",
              "      <td>20.965238</td>\n",
              "      <td>0.249974</td>\n",
              "      <td>-0.611380</td>\n",
              "      <td>125.9734</td>\n",
              "      <td>18.213953</td>\n",
              "      <td>...</td>\n",
              "      <td>9.199403</td>\n",
              "      <td>169.0</td>\n",
              "      <td>163.0</td>\n",
              "      <td>157.0</td>\n",
              "      <td>0.992205</td>\n",
              "      <td>0.977108</td>\n",
              "      <td>0.954988</td>\n",
              "      <td>504.541762</td>\n",
              "      <td>439.541191</td>\n",
              "      <td>1</td>\n",
              "    </tr>\n",
              "    <tr>\n",
              "      <th>697</th>\n",
              "      <td>124.9098</td>\n",
              "      <td>24.410827</td>\n",
              "      <td>-0.014904</td>\n",
              "      <td>0.298252</td>\n",
              "      <td>130.4604</td>\n",
              "      <td>23.675959</td>\n",
              "      <td>-0.086843</td>\n",
              "      <td>0.180634</td>\n",
              "      <td>135.0006</td>\n",
              "      <td>23.404324</td>\n",
              "      <td>...</td>\n",
              "      <td>9.195094</td>\n",
              "      <td>152.0</td>\n",
              "      <td>145.0</td>\n",
              "      <td>143.0</td>\n",
              "      <td>0.981116</td>\n",
              "      <td>0.986397</td>\n",
              "      <td>0.953482</td>\n",
              "      <td>595.888464</td>\n",
              "      <td>560.551032</td>\n",
              "      <td>0</td>\n",
              "    </tr>\n",
              "    <tr>\n",
              "      <th>698</th>\n",
              "      <td>100.5366</td>\n",
              "      <td>41.107908</td>\n",
              "      <td>-0.385692</td>\n",
              "      <td>0.309762</td>\n",
              "      <td>98.8532</td>\n",
              "      <td>40.835684</td>\n",
              "      <td>-0.356037</td>\n",
              "      <td>0.269909</td>\n",
              "      <td>98.9559</td>\n",
              "      <td>39.810056</td>\n",
              "      <td>...</td>\n",
              "      <td>9.125664</td>\n",
              "      <td>233.0</td>\n",
              "      <td>231.0</td>\n",
              "      <td>227.0</td>\n",
              "      <td>0.996501</td>\n",
              "      <td>0.997454</td>\n",
              "      <td>0.994056</td>\n",
              "      <td>1689.860060</td>\n",
              "      <td>1667.553050</td>\n",
              "      <td>1</td>\n",
              "    </tr>\n",
              "    <tr>\n",
              "      <th>699</th>\n",
              "      <td>138.0759</td>\n",
              "      <td>6.627016</td>\n",
              "      <td>2.339072</td>\n",
              "      <td>0.414758</td>\n",
              "      <td>137.9345</td>\n",
              "      <td>6.328697</td>\n",
              "      <td>2.939153</td>\n",
              "      <td>0.477630</td>\n",
              "      <td>137.8309</td>\n",
              "      <td>5.944956</td>\n",
              "      <td>...</td>\n",
              "      <td>9.209413</td>\n",
              "      <td>93.0</td>\n",
              "      <td>91.0</td>\n",
              "      <td>92.0</td>\n",
              "      <td>0.962479</td>\n",
              "      <td>0.948542</td>\n",
              "      <td>0.926412</td>\n",
              "      <td>43.917339</td>\n",
              "      <td>40.052410</td>\n",
              "      <td>0</td>\n",
              "    </tr>\n",
              "  </tbody>\n",
              "</table>\n",
              "<p>700 rows × 24 columns</p>\n",
              "</div>\n",
              "      <button class=\"colab-df-convert\" onclick=\"convertToInteractive('df-91f3b52d-6ea8-4ac4-badd-0d1ab052d07e')\"\n",
              "              title=\"Convert this dataframe to an interactive table.\"\n",
              "              style=\"display:none;\">\n",
              "        \n",
              "  <svg xmlns=\"http://www.w3.org/2000/svg\" height=\"24px\"viewBox=\"0 0 24 24\"\n",
              "       width=\"24px\">\n",
              "    <path d=\"M0 0h24v24H0V0z\" fill=\"none\"/>\n",
              "    <path d=\"M18.56 5.44l.94 2.06.94-2.06 2.06-.94-2.06-.94-.94-2.06-.94 2.06-2.06.94zm-11 1L8.5 8.5l.94-2.06 2.06-.94-2.06-.94L8.5 2.5l-.94 2.06-2.06.94zm10 10l.94 2.06.94-2.06 2.06-.94-2.06-.94-.94-2.06-.94 2.06-2.06.94z\"/><path d=\"M17.41 7.96l-1.37-1.37c-.4-.4-.92-.59-1.43-.59-.52 0-1.04.2-1.43.59L10.3 9.45l-7.72 7.72c-.78.78-.78 2.05 0 2.83L4 21.41c.39.39.9.59 1.41.59.51 0 1.02-.2 1.41-.59l7.78-7.78 2.81-2.81c.8-.78.8-2.07 0-2.86zM5.41 20L4 18.59l7.72-7.72 1.47 1.35L5.41 20z\"/>\n",
              "  </svg>\n",
              "      </button>\n",
              "      \n",
              "  <style>\n",
              "    .colab-df-container {\n",
              "      display:flex;\n",
              "      flex-wrap:wrap;\n",
              "      gap: 12px;\n",
              "    }\n",
              "\n",
              "    .colab-df-convert {\n",
              "      background-color: #E8F0FE;\n",
              "      border: none;\n",
              "      border-radius: 50%;\n",
              "      cursor: pointer;\n",
              "      display: none;\n",
              "      fill: #1967D2;\n",
              "      height: 32px;\n",
              "      padding: 0 0 0 0;\n",
              "      width: 32px;\n",
              "    }\n",
              "\n",
              "    .colab-df-convert:hover {\n",
              "      background-color: #E2EBFA;\n",
              "      box-shadow: 0px 1px 2px rgba(60, 64, 67, 0.3), 0px 1px 3px 1px rgba(60, 64, 67, 0.15);\n",
              "      fill: #174EA6;\n",
              "    }\n",
              "\n",
              "    [theme=dark] .colab-df-convert {\n",
              "      background-color: #3B4455;\n",
              "      fill: #D2E3FC;\n",
              "    }\n",
              "\n",
              "    [theme=dark] .colab-df-convert:hover {\n",
              "      background-color: #434B5C;\n",
              "      box-shadow: 0px 1px 3px 1px rgba(0, 0, 0, 0.15);\n",
              "      filter: drop-shadow(0px 1px 2px rgba(0, 0, 0, 0.3));\n",
              "      fill: #FFFFFF;\n",
              "    }\n",
              "  </style>\n",
              "\n",
              "      <script>\n",
              "        const buttonEl =\n",
              "          document.querySelector('#df-91f3b52d-6ea8-4ac4-badd-0d1ab052d07e button.colab-df-convert');\n",
              "        buttonEl.style.display =\n",
              "          google.colab.kernel.accessAllowed ? 'block' : 'none';\n",
              "\n",
              "        async function convertToInteractive(key) {\n",
              "          const element = document.querySelector('#df-91f3b52d-6ea8-4ac4-badd-0d1ab052d07e');\n",
              "          const dataTable =\n",
              "            await google.colab.kernel.invokeFunction('convertToInteractive',\n",
              "                                                     [key], {});\n",
              "          if (!dataTable) return;\n",
              "\n",
              "          const docLinkHtml = 'Like what you see? Visit the ' +\n",
              "            '<a target=\"_blank\" href=https://colab.research.google.com/notebooks/data_table.ipynb>data table notebook</a>'\n",
              "            + ' to learn more about interactive tables.';\n",
              "          element.innerHTML = '';\n",
              "          dataTable['output_type'] = 'display_data';\n",
              "          await google.colab.output.renderOutput(dataTable, element);\n",
              "          const docLink = document.createElement('div');\n",
              "          docLink.innerHTML = docLinkHtml;\n",
              "          element.appendChild(docLink);\n",
              "        }\n",
              "      </script>\n",
              "    </div>\n",
              "  </div>\n",
              "  "
            ]
          },
          "metadata": {},
          "execution_count": 137
        }
      ],
      "source": [
        "data"
      ]
    },
    {
      "cell_type": "markdown",
      "source": [
        "**Extraction of Label from Dataset**"
      ],
      "metadata": {
        "id": "8sQz-1ggNzQk"
      }
    },
    {
      "cell_type": "code",
      "execution_count": 138,
      "metadata": {
        "id": "FLwK8aXufdSD"
      },
      "outputs": [],
      "source": [
        "y=data['label'].to_numpy()"
      ]
    },
    {
      "cell_type": "code",
      "execution_count": 195,
      "metadata": {
        "colab": {
          "base_uri": "https://localhost:8080/"
        },
        "id": "ojgaCeWO-dY-",
        "outputId": "f05b0d71-54dc-4992-ee13-2ae1ebff61b3"
      },
      "outputs": [
        {
          "output_type": "execute_result",
          "data": {
            "text/plain": [
              "(700, 1)"
            ]
          },
          "metadata": {},
          "execution_count": 195
        }
      ],
      "source": [
        "y.shape"
      ]
    },
    {
      "cell_type": "code",
      "source": [
        "y=y.reshape((len(y),1))"
      ],
      "metadata": {
        "id": "b9O7VOM0-F2g"
      },
      "execution_count": 199,
      "outputs": []
    },
    {
      "cell_type": "code",
      "execution_count": 140,
      "metadata": {
        "id": "uF44TUiKf-PC"
      },
      "outputs": [],
      "source": [
        "x=data.loc[:, 'mean_r':'moment_b']"
      ]
    },
    {
      "cell_type": "code",
      "execution_count": 141,
      "metadata": {
        "id": "IMBcimhSoc9l"
      },
      "outputs": [],
      "source": [
        "#normalising x so that all the values get comparable\n",
        "def normalize(x):\n",
        "  return (x - np.mean(x,axis = 0))/np.std(x,axis = 0)"
      ]
    },
    {
      "cell_type": "code",
      "execution_count": 142,
      "metadata": {
        "id": "LO-Nn0pOp11n"
      },
      "outputs": [],
      "source": [
        "x=normalize(x)"
      ]
    },
    {
      "cell_type": "code",
      "execution_count": 143,
      "metadata": {
        "id": "gniBgNBxwKqI"
      },
      "outputs": [],
      "source": [
        "#inserting x0=1 in the dataset \n",
        "x.insert(0,\"x0\",1)"
      ]
    },
    {
      "cell_type": "code",
      "execution_count": 144,
      "metadata": {
        "colab": {
          "base_uri": "https://localhost:8080/",
          "height": 488
        },
        "id": "u7OW21ReNmvs",
        "outputId": "f196ddad-9ea7-4cbb-ee1e-d1545d22d87c"
      },
      "outputs": [
        {
          "output_type": "execute_result",
          "data": {
            "text/plain": [
              "     x0    mean_r     std_r     kur_r    skew_r    mean_g     std_g     kur_g  \\\n",
              "0     1 -0.991699 -0.047189 -0.013455  0.239067 -0.927425 -0.133530  0.116567   \n",
              "1     1  2.165732 -1.524276  0.825300  0.033855  2.647549 -1.435311  0.710483   \n",
              "2     1  2.076042  0.503592 -0.318472 -0.759474  1.531045  0.592845 -0.282883   \n",
              "3     1 -0.725126 -0.992437 -0.021771  0.634573 -0.746739 -0.933402 -0.083187   \n",
              "4     1 -0.201959 -0.048824 -0.120916  0.749735  0.000702  0.050747 -0.143344   \n",
              "..   ..       ...       ...       ...       ...       ...       ...       ...   \n",
              "695   1  0.780755  1.042022 -0.410017 -1.110137  0.691958  0.853867 -0.413047   \n",
              "696   1  0.077032 -0.747709 -0.247678 -0.972620 -0.007999 -0.779293 -0.218572   \n",
              "697   1 -0.221796 -0.547108 -0.273447  0.106099  0.045615 -0.486960 -0.330923   \n",
              "698   1 -1.304201  1.171604 -0.400470  0.119939 -1.476378  1.363599 -0.420717   \n",
              "699   1  0.362905 -2.377682  0.532969  0.246199  0.405518 -2.357743  0.678446   \n",
              "\n",
              "       skew_g    mean_b  ...  entropy_g  contrast_r  contrast_g  contrast_b  \\\n",
              "0   -0.407606 -0.786222  ...  -0.202251   -0.175366   -0.036785   -0.022565   \n",
              "1   -0.081248  3.192755  ...   1.296339    1.195389   -1.070307   -1.090982   \n",
              "2   -0.862597  0.949097  ...   0.249673    0.083169    0.612858    0.757091   \n",
              "3    0.612519 -0.783833  ...   0.718177    0.690467   -0.952191   -0.917725   \n",
              "4    0.700530  0.161280  ...   0.229754    0.219410   -0.154902    0.064064   \n",
              "..        ...       ...  ...        ...         ...         ...         ...   \n",
              "695 -1.098653  0.489855  ...  -0.348760   -0.237068    0.524270    0.179568   \n",
              "696 -0.968606 -0.147694  ...   0.744293    0.767800   -0.273019   -0.311326   \n",
              "697 -0.034703  0.317082  ...   0.600155    0.534894   -0.775015   -0.831097   \n",
              "698  0.070566 -1.538725  ...  -3.204625   -3.217736    1.616851    1.652252   \n",
              "699  0.315501  0.462804  ...   1.412368    1.308829   -2.517239   -2.390409   \n",
              "\n",
              "      corr_rg   corr_rb   corr_gb  moment_r  moment_g  moment_b  \n",
              "0   -0.235372 -1.376608 -2.499639 -2.241339 -0.214746 -0.296540  \n",
              "1   -1.162728  0.138552  0.256280  0.269026 -1.336098 -1.267300  \n",
              "2    0.663883 -0.670886 -0.548506 -0.974785  0.389818  0.488630  \n",
              "3   -0.909813  0.099940  0.044466  0.044969 -1.016257 -0.959374  \n",
              "4    0.186154 -0.172954  0.155234 -0.114437 -0.216390 -0.113859  \n",
              "..        ...       ...       ...       ...       ...       ...  \n",
              "695 -0.066762  0.262974  0.209042  0.152370  1.078714  0.813379  \n",
              "696 -0.375880  0.297622 -0.194499 -0.046463 -0.837358 -0.848117  \n",
              "697 -0.769304 -0.157011  0.144120 -0.068264 -0.675806 -0.615499  \n",
              "698  1.591239  0.473755  0.547203  0.518960  1.258956  1.512497  \n",
              "699 -2.202491 -0.921065 -1.235904 -0.460038 -1.652003 -1.616056  \n",
              "\n",
              "[700 rows x 24 columns]"
            ],
            "text/html": [
              "\n",
              "  <div id=\"df-c8f1c2d5-cad6-4371-9aaa-4ea6935fc4c9\">\n",
              "    <div class=\"colab-df-container\">\n",
              "      <div>\n",
              "<style scoped>\n",
              "    .dataframe tbody tr th:only-of-type {\n",
              "        vertical-align: middle;\n",
              "    }\n",
              "\n",
              "    .dataframe tbody tr th {\n",
              "        vertical-align: top;\n",
              "    }\n",
              "\n",
              "    .dataframe thead th {\n",
              "        text-align: right;\n",
              "    }\n",
              "</style>\n",
              "<table border=\"1\" class=\"dataframe\">\n",
              "  <thead>\n",
              "    <tr style=\"text-align: right;\">\n",
              "      <th></th>\n",
              "      <th>x0</th>\n",
              "      <th>mean_r</th>\n",
              "      <th>std_r</th>\n",
              "      <th>kur_r</th>\n",
              "      <th>skew_r</th>\n",
              "      <th>mean_g</th>\n",
              "      <th>std_g</th>\n",
              "      <th>kur_g</th>\n",
              "      <th>skew_g</th>\n",
              "      <th>mean_b</th>\n",
              "      <th>...</th>\n",
              "      <th>entropy_g</th>\n",
              "      <th>contrast_r</th>\n",
              "      <th>contrast_g</th>\n",
              "      <th>contrast_b</th>\n",
              "      <th>corr_rg</th>\n",
              "      <th>corr_rb</th>\n",
              "      <th>corr_gb</th>\n",
              "      <th>moment_r</th>\n",
              "      <th>moment_g</th>\n",
              "      <th>moment_b</th>\n",
              "    </tr>\n",
              "  </thead>\n",
              "  <tbody>\n",
              "    <tr>\n",
              "      <th>0</th>\n",
              "      <td>1</td>\n",
              "      <td>-0.991699</td>\n",
              "      <td>-0.047189</td>\n",
              "      <td>-0.013455</td>\n",
              "      <td>0.239067</td>\n",
              "      <td>-0.927425</td>\n",
              "      <td>-0.133530</td>\n",
              "      <td>0.116567</td>\n",
              "      <td>-0.407606</td>\n",
              "      <td>-0.786222</td>\n",
              "      <td>...</td>\n",
              "      <td>-0.202251</td>\n",
              "      <td>-0.175366</td>\n",
              "      <td>-0.036785</td>\n",
              "      <td>-0.022565</td>\n",
              "      <td>-0.235372</td>\n",
              "      <td>-1.376608</td>\n",
              "      <td>-2.499639</td>\n",
              "      <td>-2.241339</td>\n",
              "      <td>-0.214746</td>\n",
              "      <td>-0.296540</td>\n",
              "    </tr>\n",
              "    <tr>\n",
              "      <th>1</th>\n",
              "      <td>1</td>\n",
              "      <td>2.165732</td>\n",
              "      <td>-1.524276</td>\n",
              "      <td>0.825300</td>\n",
              "      <td>0.033855</td>\n",
              "      <td>2.647549</td>\n",
              "      <td>-1.435311</td>\n",
              "      <td>0.710483</td>\n",
              "      <td>-0.081248</td>\n",
              "      <td>3.192755</td>\n",
              "      <td>...</td>\n",
              "      <td>1.296339</td>\n",
              "      <td>1.195389</td>\n",
              "      <td>-1.070307</td>\n",
              "      <td>-1.090982</td>\n",
              "      <td>-1.162728</td>\n",
              "      <td>0.138552</td>\n",
              "      <td>0.256280</td>\n",
              "      <td>0.269026</td>\n",
              "      <td>-1.336098</td>\n",
              "      <td>-1.267300</td>\n",
              "    </tr>\n",
              "    <tr>\n",
              "      <th>2</th>\n",
              "      <td>1</td>\n",
              "      <td>2.076042</td>\n",
              "      <td>0.503592</td>\n",
              "      <td>-0.318472</td>\n",
              "      <td>-0.759474</td>\n",
              "      <td>1.531045</td>\n",
              "      <td>0.592845</td>\n",
              "      <td>-0.282883</td>\n",
              "      <td>-0.862597</td>\n",
              "      <td>0.949097</td>\n",
              "      <td>...</td>\n",
              "      <td>0.249673</td>\n",
              "      <td>0.083169</td>\n",
              "      <td>0.612858</td>\n",
              "      <td>0.757091</td>\n",
              "      <td>0.663883</td>\n",
              "      <td>-0.670886</td>\n",
              "      <td>-0.548506</td>\n",
              "      <td>-0.974785</td>\n",
              "      <td>0.389818</td>\n",
              "      <td>0.488630</td>\n",
              "    </tr>\n",
              "    <tr>\n",
              "      <th>3</th>\n",
              "      <td>1</td>\n",
              "      <td>-0.725126</td>\n",
              "      <td>-0.992437</td>\n",
              "      <td>-0.021771</td>\n",
              "      <td>0.634573</td>\n",
              "      <td>-0.746739</td>\n",
              "      <td>-0.933402</td>\n",
              "      <td>-0.083187</td>\n",
              "      <td>0.612519</td>\n",
              "      <td>-0.783833</td>\n",
              "      <td>...</td>\n",
              "      <td>0.718177</td>\n",
              "      <td>0.690467</td>\n",
              "      <td>-0.952191</td>\n",
              "      <td>-0.917725</td>\n",
              "      <td>-0.909813</td>\n",
              "      <td>0.099940</td>\n",
              "      <td>0.044466</td>\n",
              "      <td>0.044969</td>\n",
              "      <td>-1.016257</td>\n",
              "      <td>-0.959374</td>\n",
              "    </tr>\n",
              "    <tr>\n",
              "      <th>4</th>\n",
              "      <td>1</td>\n",
              "      <td>-0.201959</td>\n",
              "      <td>-0.048824</td>\n",
              "      <td>-0.120916</td>\n",
              "      <td>0.749735</td>\n",
              "      <td>0.000702</td>\n",
              "      <td>0.050747</td>\n",
              "      <td>-0.143344</td>\n",
              "      <td>0.700530</td>\n",
              "      <td>0.161280</td>\n",
              "      <td>...</td>\n",
              "      <td>0.229754</td>\n",
              "      <td>0.219410</td>\n",
              "      <td>-0.154902</td>\n",
              "      <td>0.064064</td>\n",
              "      <td>0.186154</td>\n",
              "      <td>-0.172954</td>\n",
              "      <td>0.155234</td>\n",
              "      <td>-0.114437</td>\n",
              "      <td>-0.216390</td>\n",
              "      <td>-0.113859</td>\n",
              "    </tr>\n",
              "    <tr>\n",
              "      <th>...</th>\n",
              "      <td>...</td>\n",
              "      <td>...</td>\n",
              "      <td>...</td>\n",
              "      <td>...</td>\n",
              "      <td>...</td>\n",
              "      <td>...</td>\n",
              "      <td>...</td>\n",
              "      <td>...</td>\n",
              "      <td>...</td>\n",
              "      <td>...</td>\n",
              "      <td>...</td>\n",
              "      <td>...</td>\n",
              "      <td>...</td>\n",
              "      <td>...</td>\n",
              "      <td>...</td>\n",
              "      <td>...</td>\n",
              "      <td>...</td>\n",
              "      <td>...</td>\n",
              "      <td>...</td>\n",
              "      <td>...</td>\n",
              "      <td>...</td>\n",
              "    </tr>\n",
              "    <tr>\n",
              "      <th>695</th>\n",
              "      <td>1</td>\n",
              "      <td>0.780755</td>\n",
              "      <td>1.042022</td>\n",
              "      <td>-0.410017</td>\n",
              "      <td>-1.110137</td>\n",
              "      <td>0.691958</td>\n",
              "      <td>0.853867</td>\n",
              "      <td>-0.413047</td>\n",
              "      <td>-1.098653</td>\n",
              "      <td>0.489855</td>\n",
              "      <td>...</td>\n",
              "      <td>-0.348760</td>\n",
              "      <td>-0.237068</td>\n",
              "      <td>0.524270</td>\n",
              "      <td>0.179568</td>\n",
              "      <td>-0.066762</td>\n",
              "      <td>0.262974</td>\n",
              "      <td>0.209042</td>\n",
              "      <td>0.152370</td>\n",
              "      <td>1.078714</td>\n",
              "      <td>0.813379</td>\n",
              "    </tr>\n",
              "    <tr>\n",
              "      <th>696</th>\n",
              "      <td>1</td>\n",
              "      <td>0.077032</td>\n",
              "      <td>-0.747709</td>\n",
              "      <td>-0.247678</td>\n",
              "      <td>-0.972620</td>\n",
              "      <td>-0.007999</td>\n",
              "      <td>-0.779293</td>\n",
              "      <td>-0.218572</td>\n",
              "      <td>-0.968606</td>\n",
              "      <td>-0.147694</td>\n",
              "      <td>...</td>\n",
              "      <td>0.744293</td>\n",
              "      <td>0.767800</td>\n",
              "      <td>-0.273019</td>\n",
              "      <td>-0.311326</td>\n",
              "      <td>-0.375880</td>\n",
              "      <td>0.297622</td>\n",
              "      <td>-0.194499</td>\n",
              "      <td>-0.046463</td>\n",
              "      <td>-0.837358</td>\n",
              "      <td>-0.848117</td>\n",
              "    </tr>\n",
              "    <tr>\n",
              "      <th>697</th>\n",
              "      <td>1</td>\n",
              "      <td>-0.221796</td>\n",
              "      <td>-0.547108</td>\n",
              "      <td>-0.273447</td>\n",
              "      <td>0.106099</td>\n",
              "      <td>0.045615</td>\n",
              "      <td>-0.486960</td>\n",
              "      <td>-0.330923</td>\n",
              "      <td>-0.034703</td>\n",
              "      <td>0.317082</td>\n",
              "      <td>...</td>\n",
              "      <td>0.600155</td>\n",
              "      <td>0.534894</td>\n",
              "      <td>-0.775015</td>\n",
              "      <td>-0.831097</td>\n",
              "      <td>-0.769304</td>\n",
              "      <td>-0.157011</td>\n",
              "      <td>0.144120</td>\n",
              "      <td>-0.068264</td>\n",
              "      <td>-0.675806</td>\n",
              "      <td>-0.615499</td>\n",
              "    </tr>\n",
              "    <tr>\n",
              "      <th>698</th>\n",
              "      <td>1</td>\n",
              "      <td>-1.304201</td>\n",
              "      <td>1.171604</td>\n",
              "      <td>-0.400470</td>\n",
              "      <td>0.119939</td>\n",
              "      <td>-1.476378</td>\n",
              "      <td>1.363599</td>\n",
              "      <td>-0.420717</td>\n",
              "      <td>0.070566</td>\n",
              "      <td>-1.538725</td>\n",
              "      <td>...</td>\n",
              "      <td>-3.204625</td>\n",
              "      <td>-3.217736</td>\n",
              "      <td>1.616851</td>\n",
              "      <td>1.652252</td>\n",
              "      <td>1.591239</td>\n",
              "      <td>0.473755</td>\n",
              "      <td>0.547203</td>\n",
              "      <td>0.518960</td>\n",
              "      <td>1.258956</td>\n",
              "      <td>1.512497</td>\n",
              "    </tr>\n",
              "    <tr>\n",
              "      <th>699</th>\n",
              "      <td>1</td>\n",
              "      <td>0.362905</td>\n",
              "      <td>-2.377682</td>\n",
              "      <td>0.532969</td>\n",
              "      <td>0.246199</td>\n",
              "      <td>0.405518</td>\n",
              "      <td>-2.357743</td>\n",
              "      <td>0.678446</td>\n",
              "      <td>0.315501</td>\n",
              "      <td>0.462804</td>\n",
              "      <td>...</td>\n",
              "      <td>1.412368</td>\n",
              "      <td>1.308829</td>\n",
              "      <td>-2.517239</td>\n",
              "      <td>-2.390409</td>\n",
              "      <td>-2.202491</td>\n",
              "      <td>-0.921065</td>\n",
              "      <td>-1.235904</td>\n",
              "      <td>-0.460038</td>\n",
              "      <td>-1.652003</td>\n",
              "      <td>-1.616056</td>\n",
              "    </tr>\n",
              "  </tbody>\n",
              "</table>\n",
              "<p>700 rows × 24 columns</p>\n",
              "</div>\n",
              "      <button class=\"colab-df-convert\" onclick=\"convertToInteractive('df-c8f1c2d5-cad6-4371-9aaa-4ea6935fc4c9')\"\n",
              "              title=\"Convert this dataframe to an interactive table.\"\n",
              "              style=\"display:none;\">\n",
              "        \n",
              "  <svg xmlns=\"http://www.w3.org/2000/svg\" height=\"24px\"viewBox=\"0 0 24 24\"\n",
              "       width=\"24px\">\n",
              "    <path d=\"M0 0h24v24H0V0z\" fill=\"none\"/>\n",
              "    <path d=\"M18.56 5.44l.94 2.06.94-2.06 2.06-.94-2.06-.94-.94-2.06-.94 2.06-2.06.94zm-11 1L8.5 8.5l.94-2.06 2.06-.94-2.06-.94L8.5 2.5l-.94 2.06-2.06.94zm10 10l.94 2.06.94-2.06 2.06-.94-2.06-.94-.94-2.06-.94 2.06-2.06.94z\"/><path d=\"M17.41 7.96l-1.37-1.37c-.4-.4-.92-.59-1.43-.59-.52 0-1.04.2-1.43.59L10.3 9.45l-7.72 7.72c-.78.78-.78 2.05 0 2.83L4 21.41c.39.39.9.59 1.41.59.51 0 1.02-.2 1.41-.59l7.78-7.78 2.81-2.81c.8-.78.8-2.07 0-2.86zM5.41 20L4 18.59l7.72-7.72 1.47 1.35L5.41 20z\"/>\n",
              "  </svg>\n",
              "      </button>\n",
              "      \n",
              "  <style>\n",
              "    .colab-df-container {\n",
              "      display:flex;\n",
              "      flex-wrap:wrap;\n",
              "      gap: 12px;\n",
              "    }\n",
              "\n",
              "    .colab-df-convert {\n",
              "      background-color: #E8F0FE;\n",
              "      border: none;\n",
              "      border-radius: 50%;\n",
              "      cursor: pointer;\n",
              "      display: none;\n",
              "      fill: #1967D2;\n",
              "      height: 32px;\n",
              "      padding: 0 0 0 0;\n",
              "      width: 32px;\n",
              "    }\n",
              "\n",
              "    .colab-df-convert:hover {\n",
              "      background-color: #E2EBFA;\n",
              "      box-shadow: 0px 1px 2px rgba(60, 64, 67, 0.3), 0px 1px 3px 1px rgba(60, 64, 67, 0.15);\n",
              "      fill: #174EA6;\n",
              "    }\n",
              "\n",
              "    [theme=dark] .colab-df-convert {\n",
              "      background-color: #3B4455;\n",
              "      fill: #D2E3FC;\n",
              "    }\n",
              "\n",
              "    [theme=dark] .colab-df-convert:hover {\n",
              "      background-color: #434B5C;\n",
              "      box-shadow: 0px 1px 3px 1px rgba(0, 0, 0, 0.15);\n",
              "      filter: drop-shadow(0px 1px 2px rgba(0, 0, 0, 0.3));\n",
              "      fill: #FFFFFF;\n",
              "    }\n",
              "  </style>\n",
              "\n",
              "      <script>\n",
              "        const buttonEl =\n",
              "          document.querySelector('#df-c8f1c2d5-cad6-4371-9aaa-4ea6935fc4c9 button.colab-df-convert');\n",
              "        buttonEl.style.display =\n",
              "          google.colab.kernel.accessAllowed ? 'block' : 'none';\n",
              "\n",
              "        async function convertToInteractive(key) {\n",
              "          const element = document.querySelector('#df-c8f1c2d5-cad6-4371-9aaa-4ea6935fc4c9');\n",
              "          const dataTable =\n",
              "            await google.colab.kernel.invokeFunction('convertToInteractive',\n",
              "                                                     [key], {});\n",
              "          if (!dataTable) return;\n",
              "\n",
              "          const docLinkHtml = 'Like what you see? Visit the ' +\n",
              "            '<a target=\"_blank\" href=https://colab.research.google.com/notebooks/data_table.ipynb>data table notebook</a>'\n",
              "            + ' to learn more about interactive tables.';\n",
              "          element.innerHTML = '';\n",
              "          dataTable['output_type'] = 'display_data';\n",
              "          await google.colab.output.renderOutput(dataTable, element);\n",
              "          const docLink = document.createElement('div');\n",
              "          docLink.innerHTML = docLinkHtml;\n",
              "          element.appendChild(docLink);\n",
              "        }\n",
              "      </script>\n",
              "    </div>\n",
              "  </div>\n",
              "  "
            ]
          },
          "metadata": {},
          "execution_count": 144
        }
      ],
      "source": [
        "x"
      ]
    },
    {
      "cell_type": "markdown",
      "source": [
        "**TRAIN, TEST, SPLIT**"
      ],
      "metadata": {
        "id": "HAzChx72PQfp"
      }
    },
    {
      "cell_type": "code",
      "source": [
        "from sklearn.model_selection import train_test_split\n",
        "x_train, x_test, y_train, y_test = train_test_split(x,y, test_size=0.2)\n",
        "x_train, x_val, y_train, y_val = train_test_split(x_train,y_train, test_size=0.2)"
      ],
      "metadata": {
        "id": "CV2DdEi4BbbS"
      },
      "execution_count": 163,
      "outputs": []
    },
    {
      "cell_type": "markdown",
      "source": [
        "Training Dataset"
      ],
      "metadata": {
        "id": "gOV7HYjEPWiO"
      }
    },
    {
      "cell_type": "code",
      "source": [
        "#length of training dataset\n",
        "ns=y_train.shape[0]"
      ],
      "metadata": {
        "id": "tCKwpv1E_MGO"
      },
      "execution_count": 164,
      "outputs": []
    },
    {
      "cell_type": "code",
      "execution_count": 165,
      "metadata": {
        "id": "kak_hC4phQPr"
      },
      "outputs": [],
      "source": [
        "theta=np.random.randn(len(x_train.columns),1)"
      ]
    },
    {
      "cell_type": "code",
      "execution_count": 166,
      "metadata": {
        "colab": {
          "base_uri": "https://localhost:8080/"
        },
        "id": "17Vry6Zdha78",
        "outputId": "aa8f72d5-49c1-4fc1-bf94-95456d93fa61"
      },
      "outputs": [
        {
          "output_type": "execute_result",
          "data": {
            "text/plain": [
              "array([[-0.39751506],\n",
              "       [-0.36826988],\n",
              "       [ 0.85951343],\n",
              "       [-0.1978367 ],\n",
              "       [-0.05068397],\n",
              "       [-0.1378201 ],\n",
              "       [-0.81951   ],\n",
              "       [ 1.35032657],\n",
              "       [-1.17350281],\n",
              "       [-0.66230823],\n",
              "       [ 0.21561431],\n",
              "       [-1.32266825],\n",
              "       [ 2.32523685],\n",
              "       [ 0.0907221 ],\n",
              "       [ 1.30290335],\n",
              "       [ 0.03410141],\n",
              "       [ 0.8950472 ],\n",
              "       [ 0.90123751],\n",
              "       [ 1.10699638],\n",
              "       [ 1.98945824],\n",
              "       [-0.58106599],\n",
              "       [ 0.7168504 ],\n",
              "       [-0.36284038],\n",
              "       [-0.26490937]])"
            ]
          },
          "metadata": {},
          "execution_count": 166
        }
      ],
      "source": [
        "theta"
      ]
    },
    {
      "cell_type": "code",
      "execution_count": 167,
      "metadata": {
        "colab": {
          "base_uri": "https://localhost:8080/"
        },
        "id": "zgPj5-tcMaMz",
        "outputId": "59a1e78f-d9a4-4815-acf6-fb9051279944"
      },
      "outputs": [
        {
          "output_type": "execute_result",
          "data": {
            "text/plain": [
              "(24, 1)"
            ]
          },
          "metadata": {},
          "execution_count": 167
        }
      ],
      "source": [
        "theta.shape"
      ]
    },
    {
      "cell_type": "code",
      "execution_count": 168,
      "metadata": {
        "id": "cTlegMcQnDVk"
      },
      "outputs": [],
      "source": [
        "def sigmoid(x):\n",
        "  func=1/(1+np.exp(-x))\n",
        "  return func"
      ]
    },
    {
      "cell_type": "code",
      "source": [
        "print(y_train.shape)"
      ],
      "metadata": {
        "colab": {
          "base_uri": "https://localhost:8080/"
        },
        "id": "BAAD96pj9IbG",
        "outputId": "1e522088-b6d8-4edd-fefe-660ba8db8401"
      },
      "execution_count": 170,
      "outputs": [
        {
          "output_type": "stream",
          "name": "stdout",
          "text": [
            "(448, 1)\n"
          ]
        }
      ]
    },
    {
      "cell_type": "markdown",
      "source": [
        "**Training**"
      ],
      "metadata": {
        "id": "34tJJ0VzQroT"
      }
    },
    {
      "cell_type": "code",
      "execution_count": 171,
      "metadata": {
        "colab": {
          "base_uri": "https://localhost:8080/"
        },
        "id": "2IEcMVF4wf8e",
        "outputId": "89d89432-5d4a-4c7a-f700-fa10658d85e2"
      },
      "outputs": [
        {
          "output_type": "stream",
          "name": "stdout",
          "text": [
            "Epoch:  0 Loss:  1.040499590833095\n",
            "Epoch:  5000 Loss:  0.5519765850120774\n",
            "Epoch:  10000 Loss:  0.50765262916606\n",
            "Epoch:  15000 Loss:  0.48984395845432377\n",
            "Epoch:  20000 Loss:  0.4796963225473904\n",
            "Epoch:  25000 Loss:  0.47245643784994545\n",
            "Epoch:  30000 Loss:  0.46660829395747744\n",
            "Epoch:  35000 Loss:  0.46155587120429703\n",
            "Epoch:  40000 Loss:  0.4570150855295528\n",
            "Epoch:  45000 Loss:  0.4528326446236259\n"
          ]
        }
      ],
      "source": [
        "L=[]\n",
        "for i in range(50000):\n",
        "  z=np.dot(x_train,theta) \n",
        "  y_pred=sigmoid(z)\n",
        "  theta-=((1/ns)*(np.dot(x_train.T, (y_pred - y_train))))*0.001              #updating weights\n",
        "  loss=(np.sum(-y_train*np.log(y_pred)- (1-y_train)*np.log(1-y_pred)))/ns    #finding loss according to the formula\n",
        "  L.append(loss)\n",
        "  if(i%5000==0):\n",
        "    print(\"Epoch: \", i, \"Loss: \",loss)"
      ]
    },
    {
      "cell_type": "code",
      "execution_count": 172,
      "metadata": {
        "colab": {
          "base_uri": "https://localhost:8080/"
        },
        "id": "K0GcJYJZ30z6",
        "outputId": "78877001-db42-498b-915e-1fe8eaa29a5d"
      },
      "outputs": [
        {
          "output_type": "execute_result",
          "data": {
            "text/plain": [
              "(448, 1)"
            ]
          },
          "metadata": {},
          "execution_count": 172
        }
      ],
      "source": [
        "y_pred.shape "
      ]
    },
    {
      "cell_type": "markdown",
      "source": [
        "**Classifying as Crack(1) and non-crack(0)**"
      ],
      "metadata": {
        "id": "z6iKozs5REBo"
      }
    },
    {
      "cell_type": "code",
      "execution_count": 178,
      "metadata": {
        "id": "-8OBHjTvGFza"
      },
      "outputs": [],
      "source": [
        "def predict(y_pred):\n",
        "  y_pred_t=[]\n",
        "  for i in y_pred:  \n",
        "      if i>=0.5:\n",
        "        y_pred_t.append(1)\n",
        "      else:\n",
        "        y_pred_t.append(0)\n",
        "  return y_pred_t"
      ]
    },
    {
      "cell_type": "markdown",
      "source": [
        "**Accuracy**"
      ],
      "metadata": {
        "id": "OOk_KNsaRRZu"
      }
    },
    {
      "cell_type": "code",
      "execution_count": 181,
      "metadata": {
        "id": "ETViemYUDfiG"
      },
      "outputs": [],
      "source": [
        "def accuracy(y,y_pred_t):\n",
        "  correct_pre=0\n",
        "  for i in range(len(y)):\n",
        "    if y_pred_t[i]==y[i]:\n",
        "      correct_pre+=1\n",
        "  accuracy=correct_pre*100/len(y)\n",
        "  return accuracy"
      ]
    },
    {
      "cell_type": "markdown",
      "source": [
        "**Validation Set**"
      ],
      "metadata": {
        "id": "V60YcHwTRU82"
      }
    },
    {
      "cell_type": "code",
      "source": [
        "y_val_t=np.dot(x_val,theta)\n",
        "y_val_t=sigmoid(y_val_t)\n",
        "y_val_t=predict(y_val_t)\n",
        "print(\"Validation set accuracy\" , accuracy(y_val,y_val_t))"
      ],
      "metadata": {
        "colab": {
          "base_uri": "https://localhost:8080/"
        },
        "id": "mBtZxMraAy5h",
        "outputId": "3bc46223-29f7-4d68-fc77-e83bb4e25181"
      },
      "execution_count": 182,
      "outputs": [
        {
          "output_type": "stream",
          "name": "stdout",
          "text": [
            "Validation set accuracy 76.78571428571429\n"
          ]
        }
      ]
    },
    {
      "cell_type": "markdown",
      "source": [
        "**Test Set**"
      ],
      "metadata": {
        "id": "lAW6L0kaRct_"
      }
    },
    {
      "cell_type": "code",
      "source": [
        "y_test_t=np.dot(x_test,theta)\n",
        "y_test_t=sigmoid(y_test_t)\n",
        "y_test_t=predict(y_test_t)\n",
        "print(\"Test set accuracy\" , accuracy(y_test,y_test_t))"
      ],
      "metadata": {
        "colab": {
          "base_uri": "https://localhost:8080/"
        },
        "id": "Qft9_jm-GVDF",
        "outputId": "13c9a3cc-f3b8-4a0e-836e-468b7a9397a9"
      },
      "execution_count": 184,
      "outputs": [
        {
          "output_type": "stream",
          "name": "stdout",
          "text": [
            "Test set accuracy 79.28571428571429\n"
          ]
        }
      ]
    },
    {
      "cell_type": "markdown",
      "source": [
        "**F1 Score**"
      ],
      "metadata": {
        "id": "UnIiPg92Rgj2"
      }
    },
    {
      "cell_type": "code",
      "source": [
        "def F1score(y_pred,y_pred_t):\n",
        "  TP=0\n",
        "  TN=0\n",
        "  FP=0\n",
        "  FN=0\n",
        "  for i in range(len(y_pred)):\n",
        "    if y_pred[i]==1 and y_pred_t[i]==1:\n",
        "      TP+=1\n",
        "    elif y_pred[i]==0 and y_pred_t[i]==0:\n",
        "      TN+=1\n",
        "    elif y_pred[i]==1 and y_pred_t[i]==0:\n",
        "      FP+=1\n",
        "    elif y_pred[i]==0 and y_pred_t[i]==1:\n",
        "      FN+=1\n",
        "  precision=TP/(TP+FP)\n",
        "  recall=TP/(TP+FN)    \n",
        "  F1_score=2*(precision*recall)/(precision+recall)\n",
        "  return F1_score"
      ],
      "metadata": {
        "id": "93qD7U8mHGtE"
      },
      "execution_count": 188,
      "outputs": []
    },
    {
      "cell_type": "code",
      "source": [
        "# print(F1score(y_train,y_pred))\n",
        "print(\"F1 Score of validation set is\", F1score(y_val,y_val_t))\n",
        "print(\"F1 Score of test set is\", F1score(y_test,y_test_t))"
      ],
      "metadata": {
        "colab": {
          "base_uri": "https://localhost:8080/"
        },
        "id": "FrkNVjkxJ94u",
        "outputId": "ed4ad092-bc74-4d63-d5e1-d81a442c4210"
      },
      "execution_count": 201,
      "outputs": [
        {
          "output_type": "stream",
          "name": "stdout",
          "text": [
            "F1 Score of validation set is 0.7903225806451614\n",
            "F1 Score of test set is 0.802721088435374\n"
          ]
        }
      ]
    }
  ],
  "metadata": {
    "colab": {
      "name": "Logistic_Regression.ipynb",
      "provenance": []
    },
    "kernelspec": {
      "display_name": "Python 3",
      "name": "python3"
    },
    "language_info": {
      "name": "python"
    }
  },
  "nbformat": 4,
  "nbformat_minor": 0
}